{
 "cells": [
  {
   "cell_type": "code",
   "execution_count": 7,
   "metadata": {
    "pycharm": {
     "is_executing": false
    }
   },
   "outputs": [],
   "source": [
    "import pandas as pd\n",
    "path = r'/home/rayjue/PycharmProjects/TRIL01/waimai_10k.csv'"
   ]
  },
  {
   "cell_type": "code",
   "execution_count": 8,
   "metadata": {
    "pycharm": {
     "is_executing": false,
     "name": "#%%\n"
    }
   },
   "outputs": [
    {
     "name": "stdout",
     "output_type": "stream",
     "text": [
      "评论数目（总体）：11987\n",
      "评论数目（正向）：4000\n",
      "评论数目（负向）：7987\n"
     ]
    }
   ],
   "source": [
    "pd_all = pd.read_csv(path)\n",
    "\n",
    "print('评论数目（总体）：%d' % pd_all.shape[0])\n",
    "print('评论数目（正向）：%d' % pd_all[pd_all.label==1].shape[0])\n",
    "print('评论数目（负向）：%d' % pd_all[pd_all.label==0].shape[0])\n"
   ]
  },
  {
   "cell_type": "code",
   "execution_count": 9,
   "metadata": {
    "pycharm": {
     "is_executing": false,
     "name": "#%%\n"
    }
   },
   "outputs": [
    {
     "data": {
      "text/html": [
       "<div>\n",
       "<style scoped>\n",
       "    .dataframe tbody tr th:only-of-type {\n",
       "        vertical-align: middle;\n",
       "    }\n",
       "\n",
       "    .dataframe tbody tr th {\n",
       "        vertical-align: top;\n",
       "    }\n",
       "\n",
       "    .dataframe thead th {\n",
       "        text-align: right;\n",
       "    }\n",
       "</style>\n",
       "<table border=\"1\" class=\"dataframe\">\n",
       "  <thead>\n",
       "    <tr style=\"text-align: right;\">\n",
       "      <th></th>\n",
       "      <th>label</th>\n",
       "      <th>review</th>\n",
       "    </tr>\n",
       "  </thead>\n",
       "  <tbody>\n",
       "    <tr>\n",
       "      <th>10240</th>\n",
       "      <td>0</td>\n",
       "      <td>实在不应该叫外卖的，送错地址后，再等他送过来，面都已经不能吃了。真后悔！！！外送员也不容易，...</td>\n",
       "    </tr>\n",
       "    <tr>\n",
       "      <th>6788</th>\n",
       "      <td>0</td>\n",
       "      <td>最差评,点了黑白百叶,却没有黑白叶,而白百叶也只有一片</td>\n",
       "    </tr>\n",
       "    <tr>\n",
       "      <th>3616</th>\n",
       "      <td>1</td>\n",
       "      <td>饭菜质量很好，服务好。送饭速度快。</td>\n",
       "    </tr>\n",
       "    <tr>\n",
       "      <th>2675</th>\n",
       "      <td>1</td>\n",
       "      <td>服务到位非常好，很满意</td>\n",
       "    </tr>\n",
       "    <tr>\n",
       "      <th>9927</th>\n",
       "      <td>0</td>\n",
       "      <td>饭已经都凉了，汤都洒的到处都是。。。味道很一般</td>\n",
       "    </tr>\n",
       "    <tr>\n",
       "      <th>3148</th>\n",
       "      <td>1</td>\n",
       "      <td>今天这个貌似不是很新鲜,而且送的有点慢,从订到送用了1个小时,昨天用40分钟,橙汁洒出来不少</td>\n",
       "    </tr>\n",
       "    <tr>\n",
       "      <th>9775</th>\n",
       "      <td>0</td>\n",
       "      <td>个人觉得和汉拿山差多啦！送的时候已经让人觉得没什么胃口了！</td>\n",
       "    </tr>\n",
       "    <tr>\n",
       "      <th>4727</th>\n",
       "      <td>0</td>\n",
       "      <td>客观的说，味道还可以。如果愿意等2.5小时的话，可以试试</td>\n",
       "    </tr>\n",
       "    <tr>\n",
       "      <th>8090</th>\n",
       "      <td>0</td>\n",
       "      <td>差评啥他妈玩意好好的薯条给我弄成馅饼了，恶心死我了！为了多接点单子，让我等了71分钟，薯条都...</td>\n",
       "    </tr>\n",
       "    <tr>\n",
       "      <th>7327</th>\n",
       "      <td>0</td>\n",
       "      <td>咖啡都出来已湿了</td>\n",
       "    </tr>\n",
       "    <tr>\n",
       "      <th>3807</th>\n",
       "      <td>1</td>\n",
       "      <td>神速度！太赞了啊！！</td>\n",
       "    </tr>\n",
       "    <tr>\n",
       "      <th>2087</th>\n",
       "      <td>1</td>\n",
       "      <td>很好，也很快不错</td>\n",
       "    </tr>\n",
       "    <tr>\n",
       "      <th>10722</th>\n",
       "      <td>0</td>\n",
       "      <td>送餐太慢，没有给我打5折</td>\n",
       "    </tr>\n",
       "    <tr>\n",
       "      <th>10626</th>\n",
       "      <td>0</td>\n",
       "      <td>根本没送来,我很佩服</td>\n",
       "    </tr>\n",
       "    <tr>\n",
       "      <th>9119</th>\n",
       "      <td>0</td>\n",
       "      <td>您这一共一双筷子也太凑合了吧</td>\n",
       "    </tr>\n",
       "    <tr>\n",
       "      <th>481</th>\n",
       "      <td>1</td>\n",
       "      <td>很好,外卖小哥服务也很好</td>\n",
       "    </tr>\n",
       "    <tr>\n",
       "      <th>11129</th>\n",
       "      <td>0</td>\n",
       "      <td>土豆要多煮一下</td>\n",
       "    </tr>\n",
       "    <tr>\n",
       "      <th>4419</th>\n",
       "      <td>0</td>\n",
       "      <td>等了两个半小时才到，不想说什么了</td>\n",
       "    </tr>\n",
       "    <tr>\n",
       "      <th>11033</th>\n",
       "      <td>0</td>\n",
       "      <td>恩，不错，吃了一次，上了3次厕所，</td>\n",
       "    </tr>\n",
       "    <tr>\n",
       "      <th>1558</th>\n",
       "      <td>1</td>\n",
       "      <td>太慢了,每次一个小时以上</td>\n",
       "    </tr>\n",
       "  </tbody>\n",
       "</table>\n",
       "</div>"
      ],
      "text/plain": [
       "       label                                             review\n",
       "10240      0  实在不应该叫外卖的，送错地址后，再等他送过来，面都已经不能吃了。真后悔！！！外送员也不容易，...\n",
       "6788       0                        最差评,点了黑白百叶,却没有黑白叶,而白百叶也只有一片\n",
       "3616       1                                  饭菜质量很好，服务好。送饭速度快。\n",
       "2675       1                                        服务到位非常好，很满意\n",
       "9927       0                            饭已经都凉了，汤都洒的到处都是。。。味道很一般\n",
       "3148       1     今天这个貌似不是很新鲜,而且送的有点慢,从订到送用了1个小时,昨天用40分钟,橙汁洒出来不少\n",
       "9775       0                      个人觉得和汉拿山差多啦！送的时候已经让人觉得没什么胃口了！\n",
       "4727       0                       客观的说，味道还可以。如果愿意等2.5小时的话，可以试试\n",
       "8090       0  差评啥他妈玩意好好的薯条给我弄成馅饼了，恶心死我了！为了多接点单子，让我等了71分钟，薯条都...\n",
       "7327       0                                           咖啡都出来已湿了\n",
       "3807       1                                         神速度！太赞了啊！！\n",
       "2087       1                                           很好，也很快不错\n",
       "10722      0                                       送餐太慢，没有给我打5折\n",
       "10626      0                                         根本没送来,我很佩服\n",
       "9119       0                                     您这一共一双筷子也太凑合了吧\n",
       "481        1                                       很好,外卖小哥服务也很好\n",
       "11129      0                                            土豆要多煮一下\n",
       "4419       0                                   等了两个半小时才到，不想说什么了\n",
       "11033      0                                  恩，不错，吃了一次，上了3次厕所，\n",
       "1558       1                                       太慢了,每次一个小时以上"
      ]
     },
     "execution_count": 9,
     "metadata": {},
     "output_type": "execute_result"
    }
   ],
   "source": [
    "pd_all.sample(20)"
   ]
  },
  {
   "cell_type": "code",
   "execution_count": 10,
   "metadata": {
    "pycharm": {
     "is_executing": false,
     "name": "#%%\n"
    }
   },
   "outputs": [],
   "source": [
    "pd_positive = pd_all[pd_all.label==1]\n",
    "pd_negative = pd_all[pd_all.label==0]\n",
    "\n",
    "def get_balance_corpus(corpus_size, corpus_pos, corpus_neg):\n",
    "    sample_size = corpus_size // 2\n",
    "    pd_corpus_balance = pd.concat([corpus_pos.sample(sample_size, replace=corpus_pos.shape[0]<sample_size), \\\n",
    "                                   corpus_neg.sample(sample_size, replace=corpus_neg.shape[0]<sample_size)])\n",
    "    \n",
    "    print('评论数目（总体）：%d' % pd_corpus_balance.shape[0])\n",
    "    print('评论数目（正向）：%d' % pd_corpus_balance[pd_corpus_balance.label==1].shape[0])\n",
    "    print('评论数目（负向）：%d' % pd_corpus_balance[pd_corpus_balance.label==0].shape[0])    \n",
    "    \n",
    "    return pd_corpus_balance\n",
    "\n"
   ]
  },
  {
   "cell_type": "code",
   "execution_count": 11,
   "metadata": {
    "pycharm": {
     "is_executing": false,
     "name": "#%%\n"
    }
   },
   "outputs": [
    {
     "name": "stdout",
     "output_type": "stream",
     "text": [
      "评论数目（总体）：4000\n",
      "评论数目（正向）：2000\n",
      "评论数目（负向）：2000\n"
     ]
    },
    {
     "data": {
      "text/html": [
       "<div>\n",
       "<style scoped>\n",
       "    .dataframe tbody tr th:only-of-type {\n",
       "        vertical-align: middle;\n",
       "    }\n",
       "\n",
       "    .dataframe tbody tr th {\n",
       "        vertical-align: top;\n",
       "    }\n",
       "\n",
       "    .dataframe thead th {\n",
       "        text-align: right;\n",
       "    }\n",
       "</style>\n",
       "<table border=\"1\" class=\"dataframe\">\n",
       "  <thead>\n",
       "    <tr style=\"text-align: right;\">\n",
       "      <th></th>\n",
       "      <th>label</th>\n",
       "      <th>review</th>\n",
       "    </tr>\n",
       "  </thead>\n",
       "  <tbody>\n",
       "    <tr>\n",
       "      <th>736</th>\n",
       "      <td>1</td>\n",
       "      <td>比老家的味道差点，不过还是好评！有时间去店里尝尝</td>\n",
       "    </tr>\n",
       "    <tr>\n",
       "      <th>1887</th>\n",
       "      <td>1</td>\n",
       "      <td>还蛮快的，味道也还不错，我喜欢~</td>\n",
       "    </tr>\n",
       "    <tr>\n",
       "      <th>171</th>\n",
       "      <td>1</td>\n",
       "      <td>好喝，送的很快，百度外卖我最喜欢用了！</td>\n",
       "    </tr>\n",
       "    <tr>\n",
       "      <th>490</th>\n",
       "      <td>1</td>\n",
       "      <td>挺好的，送的也挺快的，米饭再好点就更好了，感谢送的coffee</td>\n",
       "    </tr>\n",
       "    <tr>\n",
       "      <th>4344</th>\n",
       "      <td>0</td>\n",
       "      <td>买了7次，我自己下楼取了7次，而且配送员态度一般...不是来不及了就是电梯下不去！请问电梯下...</td>\n",
       "    </tr>\n",
       "    <tr>\n",
       "      <th>5130</th>\n",
       "      <td>0</td>\n",
       "      <td>太慢了，等了两个小时</td>\n",
       "    </tr>\n",
       "    <tr>\n",
       "      <th>7513</th>\n",
       "      <td>0</td>\n",
       "      <td>订了一个小时后，才打电话告诉我点的餐有的没有货，极度差，</td>\n",
       "    </tr>\n",
       "    <tr>\n",
       "      <th>11147</th>\n",
       "      <td>0</td>\n",
       "      <td>为什么烤肠付钱了，怎么没送啊</td>\n",
       "    </tr>\n",
       "    <tr>\n",
       "      <th>8457</th>\n",
       "      <td>0</td>\n",
       "      <td>难吃,点了卤肉没通知直接给换成鸡腿的，也是醉了</td>\n",
       "    </tr>\n",
       "    <tr>\n",
       "      <th>1452</th>\n",
       "      <td>1</td>\n",
       "      <td>速度很快，服务态度好。</td>\n",
       "    </tr>\n",
       "  </tbody>\n",
       "</table>\n",
       "</div>"
      ],
      "text/plain": [
       "       label                                             review\n",
       "736        1                           比老家的味道差点，不过还是好评！有时间去店里尝尝\n",
       "1887       1                                   还蛮快的，味道也还不错，我喜欢~\n",
       "171        1                                好喝，送的很快，百度外卖我最喜欢用了！\n",
       "490        1                    挺好的，送的也挺快的，米饭再好点就更好了，感谢送的coffee\n",
       "4344       0  买了7次，我自己下楼取了7次，而且配送员态度一般...不是来不及了就是电梯下不去！请问电梯下...\n",
       "5130       0                                         太慢了，等了两个小时\n",
       "7513       0                       订了一个小时后，才打电话告诉我点的餐有的没有货，极度差，\n",
       "11147      0                                     为什么烤肠付钱了，怎么没送啊\n",
       "8457       0                            难吃,点了卤肉没通知直接给换成鸡腿的，也是醉了\n",
       "1452       1                                        速度很快，服务态度好。"
      ]
     },
     "execution_count": 11,
     "metadata": {},
     "output_type": "execute_result"
    }
   ],
   "source": [
    "waimai_10k_ba_4000 = get_balance_corpus(4000, pd_positive, pd_negative)\n",
    "\n",
    "waimai_10k_ba_4000.sample(10)\n",
    "\n"
   ]
  },
  {
   "cell_type": "code",
   "execution_count": 18,
   "metadata": {
    "pycharm": {
     "is_executing": false,
     "name": "#%%\n"
    }
   },
   "outputs": [],
   "source": [
    "Dataframe=pd.DataFrame(waimai_10k_ba_4000.sample(4000))\n",
    "\n",
    "Dataframe.to_csv(\"data.csv\",index=False,sep=',')\n"
   ]
  },
  {
   "cell_type": "code",
   "execution_count": 13,
   "metadata": {
    "pycharm": {
     "is_executing": false,
     "name": "#%%\n"
    }
   },
   "outputs": [
    {
     "name": "stdout",
     "output_type": "stream",
     "text": [
      "评论数目（总体）：2000\n",
      "评论数目（正向）：1000\n",
      "评论数目（负向）：1000\n"
     ]
    },
    {
     "data": {
      "text/html": [
       "<div>\n",
       "<style scoped>\n",
       "    .dataframe tbody tr th:only-of-type {\n",
       "        vertical-align: middle;\n",
       "    }\n",
       "\n",
       "    .dataframe tbody tr th {\n",
       "        vertical-align: top;\n",
       "    }\n",
       "\n",
       "    .dataframe thead th {\n",
       "        text-align: right;\n",
       "    }\n",
       "</style>\n",
       "<table border=\"1\" class=\"dataframe\">\n",
       "  <thead>\n",
       "    <tr style=\"text-align: right;\">\n",
       "      <th></th>\n",
       "      <th>label</th>\n",
       "      <th>review</th>\n",
       "    </tr>\n",
       "  </thead>\n",
       "  <tbody>\n",
       "    <tr>\n",
       "      <th>290</th>\n",
       "      <td>1</td>\n",
       "      <td>小哥长得帅态度还好，好评</td>\n",
       "    </tr>\n",
       "    <tr>\n",
       "      <th>9671</th>\n",
       "      <td>0</td>\n",
       "      <td>菜都送错了,辣牛肉变成了大酱汤,小菜也错了</td>\n",
       "    </tr>\n",
       "    <tr>\n",
       "      <th>6710</th>\n",
       "      <td>0</td>\n",
       "      <td>太慢了！没见过这么慢的，11点之前就下单了，足足等了2个小时才送来，饭都凉了！</td>\n",
       "    </tr>\n",
       "    <tr>\n",
       "      <th>8691</th>\n",
       "      <td>0</td>\n",
       "      <td>送的时间太长，东西都送错了</td>\n",
       "    </tr>\n",
       "    <tr>\n",
       "      <th>2034</th>\n",
       "      <td>1</td>\n",
       "      <td>这次晚了一个小时……我也是醉了</td>\n",
       "    </tr>\n",
       "    <tr>\n",
       "      <th>5294</th>\n",
       "      <td>0</td>\n",
       "      <td>太慢了～～～～～是不是临时杀的猪</td>\n",
       "    </tr>\n",
       "    <tr>\n",
       "      <th>239</th>\n",
       "      <td>1</td>\n",
       "      <td>好喝！味道不错！送餐也很快！</td>\n",
       "    </tr>\n",
       "    <tr>\n",
       "      <th>660</th>\n",
       "      <td>1</td>\n",
       "      <td>美团不能送，果断换百度，很快就到了，师傅辛苦，谢谢。</td>\n",
       "    </tr>\n",
       "    <tr>\n",
       "      <th>11825</th>\n",
       "      <td>0</td>\n",
       "      <td>今天速度慢了些，大概45分钟</td>\n",
       "    </tr>\n",
       "    <tr>\n",
       "      <th>349</th>\n",
       "      <td>1</td>\n",
       "      <td>好喝～不用去外面买了～</td>\n",
       "    </tr>\n",
       "  </tbody>\n",
       "</table>\n",
       "</div>"
      ],
      "text/plain": [
       "       label                                   review\n",
       "290        1                             小哥长得帅态度还好，好评\n",
       "9671       0                    菜都送错了,辣牛肉变成了大酱汤,小菜也错了\n",
       "6710       0  太慢了！没见过这么慢的，11点之前就下单了，足足等了2个小时才送来，饭都凉了！\n",
       "8691       0                            送的时间太长，东西都送错了\n",
       "2034       1                          这次晚了一个小时……我也是醉了\n",
       "5294       0                         太慢了～～～～～是不是临时杀的猪\n",
       "239        1                           好喝！味道不错！送餐也很快！\n",
       "660        1               美团不能送，果断换百度，很快就到了，师傅辛苦，谢谢。\n",
       "11825      0                           今天速度慢了些，大概45分钟\n",
       "349        1                              好喝～不用去外面买了～"
      ]
     },
     "execution_count": 13,
     "metadata": {},
     "output_type": "execute_result"
    }
   ],
   "source": [
    "waimai_10k_ba_2000 = get_balance_corpus(2000, pd_positive, pd_negative)\n",
    "\n",
    "waimai_10k_ba_2000.sample(10)"
   ]
  },
  {
   "cell_type": "code",
   "execution_count": 19,
   "metadata": {
    "pycharm": {
     "is_executing": false,
     "name": "#%%\n"
    }
   },
   "outputs": [],
   "source": [
    "Dataframe1=pd.DataFrame(waimai_10k_ba_2000.sample(2000))\n",
    "\n",
    "Dataframe1.to_csv(\"test.csv\",index=False,sep=',')\n"
   ]
  },
  {
   "cell_type": "code",
   "execution_count": 15,
   "metadata": {
    "pycharm": {
     "is_executing": false,
     "name": "#%%\n"
    }
   },
   "outputs": [
    {
     "name": "stdout",
     "output_type": "stream",
     "text": [
      "评论数目（总体）：3000\n",
      "评论数目（正向）：1500\n",
      "评论数目（负向）：1500\n"
     ]
    },
    {
     "data": {
      "text/html": [
       "<div>\n",
       "<style scoped>\n",
       "    .dataframe tbody tr th:only-of-type {\n",
       "        vertical-align: middle;\n",
       "    }\n",
       "\n",
       "    .dataframe tbody tr th {\n",
       "        vertical-align: top;\n",
       "    }\n",
       "\n",
       "    .dataframe thead th {\n",
       "        text-align: right;\n",
       "    }\n",
       "</style>\n",
       "<table border=\"1\" class=\"dataframe\">\n",
       "  <thead>\n",
       "    <tr style=\"text-align: right;\">\n",
       "      <th></th>\n",
       "      <th>label</th>\n",
       "      <th>review</th>\n",
       "    </tr>\n",
       "  </thead>\n",
       "  <tbody>\n",
       "    <tr>\n",
       "      <th>5851</th>\n",
       "      <td>0</td>\n",
       "      <td>难吃就算了还慢.整整用了八十多分钟才到，明明九点多了才送到都凉了，为什么百度系统自己写八点十...</td>\n",
       "    </tr>\n",
       "    <tr>\n",
       "      <th>6997</th>\n",
       "      <td>0</td>\n",
       "      <td>点的茴香猪肉送成了白菜猪肉的</td>\n",
       "    </tr>\n",
       "    <tr>\n",
       "      <th>3959</th>\n",
       "      <td>1</td>\n",
       "      <td>东西不错，就是慢点</td>\n",
       "    </tr>\n",
       "    <tr>\n",
       "      <th>9362</th>\n",
       "      <td>0</td>\n",
       "      <td>老板，这单根本没送到</td>\n",
       "    </tr>\n",
       "    <tr>\n",
       "      <th>365</th>\n",
       "      <td>1</td>\n",
       "      <td>辣子鸡越来越少了。,！！！！！</td>\n",
       "    </tr>\n",
       "    <tr>\n",
       "      <th>11680</th>\n",
       "      <td>0</td>\n",
       "      <td>一个半小时才送到，图片上的饮料也没有，一点也不值21元。以后没有优惠卷活动了肯定不吃了。</td>\n",
       "    </tr>\n",
       "    <tr>\n",
       "      <th>11761</th>\n",
       "      <td>0</td>\n",
       "      <td>下单确认后一刻钟才被告知没法做，我也没辙了…</td>\n",
       "    </tr>\n",
       "    <tr>\n",
       "      <th>6001</th>\n",
       "      <td>0</td>\n",
       "      <td>垃圾中的垃圾，送餐慢，催单根本没用，催了三次根本没人理，打电话过去也一样，取消订单也不见有反...</td>\n",
       "    </tr>\n",
       "    <tr>\n",
       "      <th>9690</th>\n",
       "      <td>0</td>\n",
       "      <td>垃圾别吃吃了就后悔难吃</td>\n",
       "    </tr>\n",
       "    <tr>\n",
       "      <th>10147</th>\n",
       "      <td>0</td>\n",
       "      <td>送餐太慢，每次都超时</td>\n",
       "    </tr>\n",
       "  </tbody>\n",
       "</table>\n",
       "</div>"
      ],
      "text/plain": [
       "       label                                             review\n",
       "5851       0  难吃就算了还慢.整整用了八十多分钟才到，明明九点多了才送到都凉了，为什么百度系统自己写八点十...\n",
       "6997       0                                     点的茴香猪肉送成了白菜猪肉的\n",
       "3959       1                                          东西不错，就是慢点\n",
       "9362       0                                         老板，这单根本没送到\n",
       "365        1                                    辣子鸡越来越少了。,！！！！！\n",
       "11680      0       一个半小时才送到，图片上的饮料也没有，一点也不值21元。以后没有优惠卷活动了肯定不吃了。\n",
       "11761      0                             下单确认后一刻钟才被告知没法做，我也没辙了…\n",
       "6001       0  垃圾中的垃圾，送餐慢，催单根本没用，催了三次根本没人理，打电话过去也一样，取消订单也不见有反...\n",
       "9690       0                                        垃圾别吃吃了就后悔难吃\n",
       "10147      0                                         送餐太慢，每次都超时"
      ]
     },
     "execution_count": 15,
     "metadata": {},
     "output_type": "execute_result"
    }
   ],
   "source": [
    "\n",
    "\n",
    "waimai_10k_ba_3000 = get_balance_corpus(3000, pd_positive, pd_negative)\n",
    "\n",
    "waimai_10k_ba_3000.sample(10)"
   ]
  },
  {
   "cell_type": "code",
   "execution_count": 16,
   "metadata": {
    "pycharm": {
     "is_executing": false,
     "name": "#%%\n"
    }
   },
   "outputs": [],
   "source": [
    "\n",
    "Dataframe2=pd.DataFrame(waimai_10k_ba_3000)\n",
    "\n",
    "Dataframe2.to_csv(\"dev.csv\",index=False,sep=',')"
   ]
  },
  {
   "cell_type": "code",
   "execution_count": 17,
   "metadata": {
    "pycharm": {
     "is_executing": false,
     "name": "#%%\n"
    }
   },
   "outputs": [],
   "source": [
    "Dataframe3=pd.DataFrame(waimai_10k_ba_3000.sample(3000))\n",
    "\n",
    "Dataframe3.to_csv(\"dev.csv\",index=False,sep=',')"
   ]
  },
  {
   "cell_type": "code",
   "execution_count": null,
   "metadata": {
    "pycharm": {
     "is_executing": true,
     "name": "#%%\n"
    }
   },
   "outputs": [],
   "source": [
    "from bert_base.client import BertClient \n",
    "str=\"今天的饭菜格外好吃！\"\n",
    "print(1)\n",
    "with BertClient(show_server_config=False, check_version=False, check_length=False,mode=\"CLASS\", port=5575, port_out=5576) as bc: \n",
    "    res = bc.encode([str])\n",
    "    \n",
    "print(res) \n"
   ]
  },
  {
   "cell_type": "code",
   "execution_count": null,
   "metadata": {},
   "outputs": [],
   "source": []
  }
 ],
 "metadata": {
  "kernelspec": {
   "display_name": "Python 3",
   "language": "python",
   "name": "python3"
  },
  "language_info": {
   "codemirror_mode": {
    "name": "ipython",
    "version": 3
   },
   "file_extension": ".py",
   "mimetype": "text/x-python",
   "name": "python",
   "nbconvert_exporter": "python",
   "pygments_lexer": "ipython3",
   "version": "3.6.10"
  },
  "pycharm": {
   "stem_cell": {
    "cell_type": "raw",
    "metadata": {
     "collapsed": false
    },
    "source": [
     "\n",
     "\n",
     "\n"
    ]
   }
  }
 },
 "nbformat": 4,
 "nbformat_minor": 1
}